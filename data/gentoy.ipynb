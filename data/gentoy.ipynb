{
 "metadata": {
  "name": "gentoy"
 },
 "nbformat": 3,
 "nbformat_minor": 0,
 "worksheets": [
  {
   "cells": [
    {
     "cell_type": "code",
     "collapsed": false,
     "input": [
      "from dist_fit import *\n",
      "%load_ext cythonmagic"
     ],
     "language": "python",
     "metadata": {},
     "outputs": [],
     "prompt_number": 2
    },
    {
     "cell_type": "heading",
     "level": 2,
     "metadata": {},
     "source": [
      "Crystalball"
     ]
    },
    {
     "cell_type": "code",
     "collapsed": false,
     "input": [
      "bound = (-100,100)\n",
      "ncball = Normalize(crystalball, bound)\n",
      "print describe(ncball)\n",
      "np.random.seed(0)#make sure we get consistent result\n",
      "cball_toy = gen_toy(ncball,10000, bound, alpha=1.,n=1.5,mean=20,sigma=10)\n",
      "hist(cball_toy,bins=100,histtype='step');\n",
      "np.savetxt('crystalball.csv',cball_toy)\n",
      "print cball_toy[:5]"
     ],
     "language": "python",
     "metadata": {},
     "outputs": [
      {
       "output_type": "stream",
       "stream": "stdout",
       "text": [
        "('x', 'alpha', 'n', 'mean', 'sigma')\n",
        "[ 17.63008434  23.19293576  19.4311549   17.49654672  12.98990656]"
       ]
      },
      {
       "output_type": "stream",
       "stream": "stdout",
       "text": [
        "\n"
       ]
      },
      {
       "output_type": "display_data",
       "png": "[encoded data removed]",
       "text": [
        "<matplotlib.figure.Figure at 0x1062b4350>"
       ]
      }
     ],
     "prompt_number": 4
    },
    {
     "cell_type": "heading",
     "level": 2,
     "metadata": {},
     "source": [
      "Gaussian Convoluted Crystalball"
     ]
    },
    {
     "cell_type": "code",
     "collapsed": false,
     "input": [
      "%%cython\n",
      "#this is stupid but there is a name clash from crystalball and gaussian\n",
      "cimport cython\n",
      "from libc.math cimport exp, M_PI\n",
      "@cython.binding(True)\n",
      "def g(x,mu,resolution):\n",
      "    return 1./2./M_PI*exp(-(x-mu)**2/2./resolution)"
     ],
     "language": "python",
     "metadata": {},
     "outputs": [],
     "prompt_number": 5
    },
    {
     "cell_type": "code",
     "collapsed": false,
     "input": [
      "gcball = Convolve(g,crystalball,bound)\n",
      "ngcball = Normalize(gcball,bound)\n",
      "print describe(gcball)\n",
      "np.random.seed(0)\n",
      "gcball_toy = gcball_toy = gen_toy(ngcball,10000,bound,\n",
      "    mu=-20.,resolution=10.,alpha=1.,n=1.5,mean=20.,sigma=10.)"
     ],
     "language": "python",
     "metadata": {},
     "outputs": [
      {
       "output_type": "stream",
       "stream": "stdout",
       "text": [
        "('x', 'mu', 'resolution', 'alpha', 'n', 'mean', 'sigma')\n"
       ]
      }
     ],
     "prompt_number": 6
    },
    {
     "cell_type": "code",
     "collapsed": false,
     "input": [
      "hist(gcball_toy,bins=100,histtype='step');\n",
      "np.savetxt('crystallball_convoluted.csv',gcball_toy)"
     ],
     "language": "python",
     "metadata": {},
     "outputs": [
      {
       "output_type": "display_data",
       "png": "[encoded data removed]",
       "text": [
        "<matplotlib.figure.Figure at 0x10690c410>"
       ]
      }
     ],
     "prompt_number": 7
    },
    {
     "cell_type": "code",
     "collapsed": false,
     "input": [],
     "language": "python",
     "metadata": {},
     "outputs": [],
     "prompt_number": 10
    },
    {
     "cell_type": "code",
     "collapsed": false,
     "input": [],
     "language": "python",
     "metadata": {},
     "outputs": []
    },
    {
     "cell_type": "code",
     "collapsed": false,
     "input": [],
     "language": "python",
     "metadata": {},
     "outputs": []
    },
    {
     "cell_type": "code",
     "collapsed": false,
     "input": [],
     "language": "python",
     "metadata": {},
     "outputs": []
    }
   ],
   "metadata": {}
  }
 ]
}